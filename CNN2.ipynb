{
 "cells": [
  {
   "cell_type": "markdown",
   "id": "3e28d2e3",
   "metadata": {},
   "source": []
  },
  {
   "cell_type": "code",
   "execution_count": null,
   "id": "46c750d4",
   "metadata": {
    "vscode": {
     "languageId": "plaintext"
    }
   },
   "outputs": [],
   "source": [
    "import tensorflow as tf\n",
    "import tensorflow_datasets as tfds\n",
    "\n",
    "#loading dataset\n",
    "(ds_train,ds_test),ds_info = tfds.load(\n",
    "    'cifar10',\n",
    "    split = ['train','test'],\n",
    "    shuffle_files = True,\n",
    "    as_supervised = True,\n",
    "    with_info = True\n",
    ")"
   ]
  },
  {
   "cell_type": "code",
   "execution_count": null,
   "id": "e4819b15",
   "metadata": {
    "vscode": {
     "languageId": "plaintext"
    }
   },
   "outputs": [],
   "source": [
    "def preprocess(image, label):\n",
    "    # Normalize pixel values to [0, 1]\n",
    "    image = tf.cast(image, tf.float32) / 255.0\n",
    "    # Resize (optional, here CIFAR is already 32x32)\n",
    "    image = tf.image.resize(image, [32, 32])\n",
    "    return image, label\n",
    "\n",
    "batch_size = 64\n",
    "\n",
    "train_data = ds_train.map(preprocess).batch(batch_size).prefetch(tf.data.AUTOTUNE)\n",
    "test_data = ds_test.map(preprocess).batch(batch_size).prefetch(tf.data.AUTOTUNE)\n"
   ]
  },
  {
   "cell_type": "code",
   "execution_count": null,
   "id": "26649f14",
   "metadata": {
    "vscode": {
     "languageId": "plaintext"
    }
   },
   "outputs": [],
   "source": [
    "model = tf.keras.Sequential([\n",
    "    tf.keras.layers.Conv2D(32, (3,3), activation='relu', input_shape=(32, 32, 3)),\n",
    "    tf.keras.layers.MaxPooling2D(2, 2),\n",
    "    \n",
    "    tf.keras.layers.Conv2D(64, (3,3), activation='relu'),\n",
    "    tf.keras.layers.MaxPooling2D(2, 2),\n",
    "\n",
    "    tf.keras.layers.Conv2D(128, (3,3), activation='relu'),\n",
    "    tf.keras.layers.MaxPooling2D(2, 2),\n",
    "\n",
    "    tf.keras.layers.Flatten(),\n",
    "    tf.keras.layers.Dense(128, activation='relu'),\n",
    "\n",
    "    tf.keras.layers.Dense(10, activation='softmax')  # 10 classes → softmax\n",
    "])\n"
   ]
  },
  {
   "cell_type": "code",
   "execution_count": null,
   "id": "56020e1b",
   "metadata": {
    "vscode": {
     "languageId": "plaintext"
    }
   },
   "outputs": [],
   "source": [
    "model.compile(\n",
    "    optimizer='adam',\n",
    "    loss='sparse_categorical_crossentropy',  # use sparse if labels are integers (not one-hot)\n",
    "    metrics=['accuracy']\n",
    ")\n"
   ]
  },
  {
   "cell_type": "code",
   "execution_count": null,
   "id": "b29fe125",
   "metadata": {
    "vscode": {
     "languageId": "plaintext"
    }
   },
   "outputs": [],
   "source": [
    "history = model.fit(train_data, validation_data=test_data, epochs=10)\n",
    "\n",
    "loss, accuracy = model.evaluate(test_data)\n",
    "print(f\"Test Accuracy: {accuracy:.4f}\")\n"
   ]
  },
  {
   "cell_type": "code",
   "execution_count": null,
   "id": "0757fd72",
   "metadata": {
    "vscode": {
     "languageId": "plaintext"
    }
   },
   "outputs": [],
   "source": [
    "import tensorflow as tf\n",
    "import numpy as np\n",
    "from PIL import Image\n",
    "\n",
    "# Path to your image\n",
    "img_path = '/content/deer.png'#use your own image path to get classification among 'airplane','car','bird','cat','deer','dog','frog','horse','ship','truck'\n",
    "\n",
    "# Load image\n",
    "img = Image.open(img_path)\n",
    "\n",
    "# Resize to CIFAR-10 input size\n",
    "img = img.resize((32, 32))\n",
    "\n",
    "# Convert to numpy array and normalize\n",
    "img_array = np.array(img) / 255.0\n",
    "\n",
    "# If image has alpha channel, remove it\n",
    "if img_array.shape[-1] == 4:\n",
    "    img_array = img_array[..., :3]\n",
    "\n",
    "# Add batch dimension\n",
    "img_array = np.expand_dims(img_array, axis=0)\n",
    "\n",
    "# Predict\n",
    "predictions = model.predict(img_array)\n",
    "\n",
    "# Get predicted class index\n",
    "predicted_class = np.argmax(predictions[0])\n",
    "\n",
    "# CIFAR-10 class names\n",
    "class_names = ['airplane','car','bird','cat','deer','dog','frog','horse','ship','truck']\n",
    "\n",
    "print(f\"Predicted Class ID: {predicted_class}\")\n",
    "print(f\"Predicted Class Name: {class_names[predicted_class]}\")\n"
   ]
  }
 ],
 "metadata": {
  "language_info": {
   "name": "python"
  }
 },
 "nbformat": 4,
 "nbformat_minor": 5
}
